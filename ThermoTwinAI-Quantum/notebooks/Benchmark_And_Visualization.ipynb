{
 "cells": [
  {
   "cell_type": "markdown",
   "metadata": {},
   "source": [
    "# Benchmark and Visualization\n",
    "This notebook trains classical and quantum models on the TFTEC dataset,\n",
    "plots forecasts, uncertainty bands and feature importances." 
   ]
  },
  {
   "cell_type": "code",
   "execution_count": null,
   "metadata": {},
   "outputs": [],
   "source": [
    "from benchmarks.classical_models import run_benchmarks\n",
    "run_benchmarks()\n" 
   ]
  }
 ],
 "metadata": {
  "kernelspec": {
   "display_name": "Python 3",
   "language": "python",
   "name": "python3"
  },
  "language_info": {
   "name": "python",
   "version": "3.10"
  }
 },
 "nbformat": 4,
 "nbformat_minor": 5
}
